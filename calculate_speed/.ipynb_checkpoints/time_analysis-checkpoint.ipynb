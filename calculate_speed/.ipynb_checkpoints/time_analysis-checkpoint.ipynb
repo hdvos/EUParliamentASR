{
 "cells": [
  {
   "cell_type": "code",
   "execution_count": 1,
   "metadata": {},
   "outputs": [
    {
     "name": "stdout",
     "output_type": "stream",
     "text": [
      "['timeregistrations/20160912_time_registration.txt', 'timeregistrations/2016031702_time_registration.txt', 'timeregistrations/20170227_time_registration.txt', 'timeregistrations/20160908_time_registration.txt', 'timeregistrations/2015120101_time_registration.txt', 'timeregistrations/20161010_time_registration.txt', 'timeregistrations/2017041202_time_registration.txt', 'timeregistrations/20161128_time_registration.txt', 'timeregistrations/20160425_time_registration.txt', 'timeregistrations/2017032702_time_registration.txt', 'timeregistrations/20160704_time_registration.txt', 'timeregistrations/20170424_time_registration.txt', 'timeregistrations/20170330_time_registration.txt', 'timeregistrations/20140701_time_registration.txt', 'timeregistrations/20160321_time_registration.txt', 'timeregistrations/2016061501_time_registration.txt', 'timeregistrations/2016112901_time_registration.txt', 'timeregistrations/20161003_time_registration.txt', 'timeregistrations/2017041203_time_registration.txt', 'timeregistrations/2015120102_time_registration.txt', 'timeregistrations/20161124_time_registration.txt', 'timeregistrations/2014090301_time_registration.txt', 'timeregistrations/2017011202_time_registration.txt', 'timeregistrations/2017042502_time_registration.txt', 'timeregistrations/2017041102_time_registration.txt', 'timeregistrations/2016031601_time_registration.txt', 'timeregistrations/2501061702_time_registration.txt', 'timeregistrations/2016120803_time_registration.txt', 'timeregistrations/2016120801_time_registration.txt', 'timeregistrations/20161114_time_registration.txt', 'timeregistrations/2016083102_time_registration.txt', 'timeregistrations/2017032302_time_registration.txt', 'timeregistrations/2016042101_time_registration.txt', 'timeregistrations/2017020901_time_registration.txt', 'timeregistrations/20161020_time_registration.txt', 'timeregistrations/2017032701_time_registration.txt', 'timeregistrations/2017032202_time_registration.txt', 'timeregistrations/20160530_time_registration.txt', 'timeregistrations/2017022803_time_registration.txt', 'timeregistrations/2017022802_time_registration.txt', 'timeregistrations/2016061502_time_registration.txt', 'timeregistrations/20160229_time_registration.txt', 'timeregistrations/2017012401_time_registration.txt', 'timeregistrations/2016011402_time_registration.txt', 'timeregistrations/20161107_time_registration.txt', 'timeregistrations/2017041101_time_registration.txt', 'timeregistrations/2016071101_time_registration.txt', 'timeregistrations/2017022801_time_registration.txt', 'timeregistrations/20160118_time_registration.txt', 'timeregistrations/2017013101_time_registration.txt', 'timeregistrations/20160621_time_registration.txt', 'timeregistrations/20161117_time_registration.txt', 'timeregistrations/2016061601_time_registration.txt', 'timeregistrations/2016031602_time_registration.txt', 'timeregistrations/20151209_time_registration.txt', 'timeregistrations/20170427_time_registration.txt', 'timeregistrations/2501061701_time_registration.txt', 'timeregistrations/20160526_time_registration.txt', 'timeregistrations/20160523_time_registration.txt', 'timeregistrations/2016061602_time_registration.txt', 'timeregistrations/2016110801_time_registration.txt', 'timeregistrations/2017022805_time_registration.txt', 'timeregistrations/20151208_time_registration.txt', 'timeregistrations/2016031701_time_registration.txt', 'timeregistrations/2016112902_time_registration.txt', 'timeregistrations/2015122101_time_registration.txt', 'timeregistrations/2016040702_time_registration.txt', 'timeregistrations/20151207_time_registration.txt', 'timeregistrations/20161017_time_registration.txt', 'timeregistrations/20160509_time_registration.txt', 'timeregistrations/20160613_time_registration.txt', 'timeregistrations/20160411_time_registration.txt', 'timeregistrations/2017030901_time_registration.txt', 'timeregistrations/2017032201_time_registration.txt', 'timeregistrations/2016120802_time_registration.txt', 'timeregistrations/2016071102_time_registration.txt', 'timeregistrations/2016112903_time_registration.txt', 'timeregistrations/2017012402_time_registration.txt', 'timeregistrations/20160125_time_registration.txt', 'timeregistrations/2016101201_time_registration.txt', 'timeregistrations/2016110802_time_registration.txt', 'timeregistrations/2016071202_time_registration.txt', 'timeregistrations/20161205_time_registration.txt', 'timeregistrations/20151130_time_registration.txt', 'timeregistrations/2016040701_time_registration.txt', 'timeregistrations/2017013102_time_registration.txt', 'timeregistrations/2017042501_time_registration.txt', 'timeregistrations/2017020902_time_registration.txt', 'timeregistrations/20140714_time_registration.txt', 'timeregistrations/2017032301_time_registration.txt', 'timeregistrations/2015041402_time_registration.txt', 'timeregistrations/2017011201_time_registration.txt', 'timeregistrations/20160420_time_registration.txt', 'timeregistrations/2016083101_time_registration.txt', 'timeregistrations/20160707_time_registration.txt', 'timeregistrations/2016052401_time_registration.txt', 'timeregistrations/2015122102_time_registration.txt', 'timeregistrations/20160412_time_registration.txt', 'timeregistrations/2016101202_time_registration.txt', 'timeregistrations/2016042102_time_registration.txt', 'timeregistrations/2016052402_time_registration.txt', 'timeregistrations/2015121001_time_registration.txt', 'timeregistrations/20170130_time_registration.txt', 'timeregistrations/20160111_time_registration.txt', 'timeregistrations/2017041201_time_registration.txt', 'timeregistrations/20160926_time_registration.txt', 'timeregistrations/2016071201_time_registration.txt', 'timeregistrations/2015121002_time_registration.txt', 'timeregistrations/20151217_time_registration.txt', 'timeregistrations/20160428_time_registration.txt', 'timeregistrations/2017030902_time_registration.txt', 'timeregistrations/20170123_time_registration.txt', 'timeregistrations/2016011401_time_registration.txt', 'timeregistrations/20160905_time_registration.txt', 'timeregistrations/2017011203_time_registration.txt', 'timeregistrations/2017022804_time_registration.txt']\n"
     ]
    },
    {
     "ename": "TypeError",
     "evalue": "__init__() missing 5 required positional arguments: 'total_processing_time', 'diarization_relative', 'segmentation_relative', 'inference_relative', and 'total_processing_time_relative'",
     "output_type": "error",
     "traceback": [
      "\u001b[0;31m---------------------------------------------------------------------------\u001b[0m",
      "\u001b[0;31mTypeError\u001b[0m                                 Traceback (most recent call last)",
      "\u001b[0;32m<ipython-input-1-11b3775d7b81>\u001b[0m in \u001b[0;36m<module>\u001b[0;34m\u001b[0m\n\u001b[1;32m     33\u001b[0m     \u001b[0;32mexcept\u001b[0m \u001b[0mIndexError\u001b[0m\u001b[0;34m:\u001b[0m\u001b[0;34m\u001b[0m\u001b[0;34m\u001b[0m\u001b[0m\n\u001b[1;32m     34\u001b[0m         \u001b[0;32mcontinue\u001b[0m\u001b[0;34m\u001b[0m\u001b[0;34m\u001b[0m\u001b[0m\n\u001b[0;32m---> 35\u001b[0;31m     \u001b[0mtime_data\u001b[0m \u001b[0;34m=\u001b[0m \u001b[0mtime_info\u001b[0m\u001b[0;34m(\u001b[0m\u001b[0mwav_duration\u001b[0m\u001b[0;34m,\u001b[0m \u001b[0mdiarization_duration\u001b[0m\u001b[0;34m,\u001b[0m \u001b[0msegmentation_duration\u001b[0m\u001b[0;34m,\u001b[0m \u001b[0minference_duration\u001b[0m\u001b[0;34m)\u001b[0m\u001b[0;34m\u001b[0m\u001b[0;34m\u001b[0m\u001b[0m\n\u001b[0m\u001b[1;32m     36\u001b[0m     \u001b[0mprint\u001b[0m\u001b[0;34m(\u001b[0m\u001b[0masdict\u001b[0m\u001b[0;34m(\u001b[0m\u001b[0mtime_data\u001b[0m\u001b[0;34m)\u001b[0m\u001b[0;34m)\u001b[0m\u001b[0;34m\u001b[0m\u001b[0;34m\u001b[0m\u001b[0m\n\u001b[1;32m     37\u001b[0m \u001b[0;34m\u001b[0m\u001b[0m\n",
      "\u001b[0;31mTypeError\u001b[0m: __init__() missing 5 required positional arguments: 'total_processing_time', 'diarization_relative', 'segmentation_relative', 'inference_relative', and 'total_processing_time_relative'"
     ]
    }
   ],
   "source": [
    "import os\n",
    "import re\n",
    "from csv import DictWriter\n",
    "\n",
    "from dataclasses import dataclass, asdict\n",
    "\n",
    "@dataclass\n",
    "class time_info():\n",
    "    wav_duration:list\n",
    "    diarization:list\n",
    "    segmentation:list\n",
    "    inference:list\n",
    "    total_processing_time:list\n",
    "\n",
    "    diarization_relative:list\n",
    "    segmentation_relative:list\n",
    "    inference_relative:list\n",
    "    total_processing_time_relative:list\n",
    "\n",
    "time_data=time_info([],[],[],[],[],[],[],[],[])\n",
    "\n",
    "filelist = os.listdir(\"timeregistrations\")\n",
    "filelist = [os.path.join(\"timeregistrations\", filename) for filename in filelist]\n",
    "print(filelist)\n",
    "\n",
    "for file in filelist:\n",
    "    with open(file, 'rt') as f:\n",
    "        timeregistration_text = f.read()\n",
    "    try:\n",
    "        wav_duration = float(re.findall(r\"Audiofile is ([0-9]+\\.[0-9]+) seconds\", timeregistration_text)[0])\n",
    "        diarization_duration = float(re.findall(r\"Stage 1 took ([0-9]+\\.[0-9]+) seconds\", timeregistration_text)[0])\n",
    "        segmentation_duration = float(re.findall(r\"Stage 2 took ([0-9]+\\.[0-9]+) seconds\", timeregistration_text)[0])\n",
    "        inference_duration = float(re.findall(r\"Stage 3 took ([0-9]+\\.[0-9]+) seconds\", timeregistration_text)[0])\n",
    "    except IndexError:\n",
    "        continue\n",
    "    time_data.wav_duration.append(wav_duration)\n",
    "    time_data.diarization.append(diarization_duration)\n",
    "    time_data.segmentation.append(segmentation_duration)\n",
    "    time_data.inference.append(inference_duration)\n",
    "    time_data.total_processing_time.append(diarization_duration+segmentation_duration+inference_duration)\n",
    "    \n",
    "    time_data.diarization_relative_to.append(diarization_duration/wav_duration)\n",
    "    \n",
    "\n",
    "    diarization_duration_relative = diarization_duration/wav_duration\n",
    "    segmentation_duration_relative = segmentation_duration/wav_duration\n",
    "    inference_duration_relative = inference_duration/wav_duration"
   ]
  },
  {
   "cell_type": "code",
   "execution_count": null,
   "metadata": {},
   "outputs": [],
   "source": []
  }
 ],
 "metadata": {
  "kernelspec": {
   "display_name": "Python 3",
   "language": "python",
   "name": "python3"
  },
  "language_info": {
   "codemirror_mode": {
    "name": "ipython",
    "version": 3
   },
   "file_extension": ".py",
   "mimetype": "text/x-python",
   "name": "python",
   "nbconvert_exporter": "python",
   "pygments_lexer": "ipython3",
   "version": "3.7.3"
  }
 },
 "nbformat": 4,
 "nbformat_minor": 4
}
